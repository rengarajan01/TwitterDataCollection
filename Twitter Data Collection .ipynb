{
 "cells": [
  {
   "cell_type": "code",
   "execution_count": 1,
   "metadata": {},
   "outputs": [
    {
     "name": "stdout",
     "output_type": "stream",
     "text": [
      "Requirement already satisfied: TwitterSearch in c:\\users\\rengarajan\\anaconda3\\lib\\site-packages (1.0.2)\n",
      "Requirement already satisfied: requests>=1.0.0 in c:\\users\\rengarajan\\anaconda3\\lib\\site-packages (from TwitterSearch) (2.22.0)\n",
      "Requirement already satisfied: requests-oauthlib>=0.3.0 in c:\\users\\rengarajan\\anaconda3\\lib\\site-packages (from TwitterSearch) (1.3.0)\n",
      "Requirement already satisfied: urllib3!=1.25.0,!=1.25.1,<1.26,>=1.21.1 in c:\\users\\rengarajan\\anaconda3\\lib\\site-packages (from requests>=1.0.0->TwitterSearch) (1.25.8)\n",
      "Requirement already satisfied: idna<2.9,>=2.5 in c:\\users\\rengarajan\\anaconda3\\lib\\site-packages (from requests>=1.0.0->TwitterSearch) (2.8)\n",
      "Requirement already satisfied: certifi>=2017.4.17 in c:\\users\\rengarajan\\anaconda3\\lib\\site-packages (from requests>=1.0.0->TwitterSearch) (2019.11.28)\n",
      "Requirement already satisfied: chardet<3.1.0,>=3.0.2 in c:\\users\\rengarajan\\anaconda3\\lib\\site-packages (from requests>=1.0.0->TwitterSearch) (3.0.4)\n",
      "Requirement already satisfied: oauthlib>=3.0.0 in c:\\users\\rengarajan\\anaconda3\\lib\\site-packages (from requests-oauthlib>=0.3.0->TwitterSearch) (3.1.0)\n",
      "Note: you may need to restart the kernel to use updated packages.\n"
     ]
    }
   ],
   "source": [
    "#installing The TwitterSearch Library\n",
    "#Make Sure you have Satble Internet connection\n",
    "\n",
    "pip install TwitterSearch"
   ]
  },
  {
   "cell_type": "code",
   "execution_count": 2,
   "metadata": {},
   "outputs": [],
   "source": [
    "#importing all the classes from TwitterSearch Library\n",
    "#TwitterSearch Library have 4 classes\n",
    "\n",
    "from TwitterSearch import *"
   ]
  },
  {
   "cell_type": "code",
   "execution_count": 3,
   "metadata": {},
   "outputs": [
    {
     "name": "stdout",
     "output_type": "stream",
     "text": [
      "39\n",
      "59\n",
      "{'AGARAMUSA': 1, 'SentimentalSeptember': 1, '20yearsofSURIYAism': 1, 'NeetKillsAnitha': 1, 'TN': 1, 'MagalirMattum': 1, 'RIP_Political_BCCI': 38, 'RIP_': 1, 'MrCricket': 1, 'MrIPL': 1, 'MikeHussey': 1, 'SureshRaina': 1, 'RIP_Political_Bcci': 4, 'RIP': 1, 'RIP_POLITICAL_BCCI': 2, 'BCCI': 1, 'Trend': 1, 'Post': 1, 'Bcci': 1, 'AskSayyeshaa': 1, 'Naachiyaar': 1, 'Bala': 1, 'jyotika': 1, 'Happy': 1, 'NaanaThaanaVeenaPonaa': 3, 'TSK': 2, 'repeatmode': 1, 'TSKSecondLook': 2, 'HBDDearSuriya': 1, 'TSKFirstLook': 1, 'SecondLook': 1, 'SundaySurprise': 1, 'HappyBirthdayMSD': 1, 'PartnershipsForLife': 1, 'Playing': 1, 'NewProfilePic': 1, 'superstar': 1, 'kaala': 1}\n",
      "{'Suriya_offl': 12, 'Rajkuma56284099': 5, 'bramma23': 1, 'GhibranOfficial': 1, 'NaanChristy': 1, '2D_ENTPVTLTD': 1, 'Subashrocky11': 29, 'ImRaina': 23, 'imVkohli': 4, 'BCCI': 21, 'RaviShastriOfc': 1, 'NareshK77718435': 2, 'imrainaa': 1, 'bccia': 1, 'CSKFansOfficial': 1, 'YUVSTRONG12': 3, 'Rockyrakesh647': 2, 'brokedrake': 2, 'AbhishekOpines': 2, 'ICC': 2, 'Raina_Barani': 1, 'sayyeshaa': 2, '6pm': 1, 'sachin_rt': 1, 'tamilthalaivas': 1, 'Iam_karthiSJ': 1, 'anirudhofficial': 2, 'VigneshShivN': 3, 'kegvraja': 1, 'rajsekarpandian': 1, 'Karthi00640937': 1, 'actorvijay': 1, 'arrahman': 1, 'SonyMusicSouth': 1, 'ThenandalFilms': 1, 'Atlee_dir': 1, 'Iam_nareshkm': 6, 'TamilTechOffici': 1, 'msdhoni': 1, 'block_ram': 1, 'hardikpandya7': 1, 'TheRealPCB': 1, 'actorsathish': 1, 'mohan_manjima': 1, 'Nirmal81795458': 1, 'dhanushkraja': 4, 'davidwarner31': 1, 'MadonnaSebast14': 2, 'behindwoods': 1}\n",
      "98\n"
     ]
    }
   ],
   "source": [
    "try:\n",
    "    tweetid = TwitterUserOrder('user_id')\n",
    "    key = TwitterSearch(\n",
    "        consumer_key = 'your_key',\n",
    "        consumer_secret = 'your_key',\n",
    "        access_token = 'your_key',\n",
    "        access_token_secret = 'your_key'  \n",
    "        )\n",
    "    tweets = key.search_tweets_iterable(tweetid)\n",
    "\n",
    "    tweet_count=0\n",
    "    retweet_count=0\n",
    "    hashtags_used={}\n",
    "    user_mentions = {}\n",
    "    for tweet in tweets:\n",
    "        #print( '@%s tweeted: %s used hastag %s' % ( tweet['user']['screen_name'], tweet['text'],tweet['entities']['hashtags']))\n",
    "        if('RT' in tweet['text']):\n",
    "            retweet_count+=1\n",
    "        else:\n",
    "            tweet_count+=1\n",
    "        for i in range(len(tweet['entities']['hashtags'])):\n",
    "            hashtag = tweet['entities']['hashtags'][i]['text']\n",
    "            if(hashtag not in hashtags_used):\n",
    "                hashtags_used[hashtag]=1\n",
    "            else:\n",
    "                hashtags_used[hashtag]+=1\n",
    "        for i in range(len(tweet['entities']['user_mentions'])):\n",
    "            user_mention = tweet['entities']['user_mentions'][i]['screen_name']\n",
    "            if(user_mention not in user_mentions):\n",
    "                user_mentions[user_mention]=1\n",
    "            else:\n",
    "                user_mentions[user_mention]+=1\n",
    "\n",
    "    total_tweet=tweet_count+retweet_count\n",
    "    print(tweet_count)\n",
    "    print(retweet_count)\n",
    "    print(hashtags_used)\n",
    "    print(user_mentions)\n",
    "    print(total_tweet)\n",
    "    \n",
    "except TwitterSearchException as e:\n",
    "    print(e)"
   ]
  },
  {
   "cell_type": "code",
   "execution_count": 4,
   "metadata": {},
   "outputs": [],
   "source": [
    "#Libraries for plotting \n",
    "#if you dont have these packages do install in before proceeding\n",
    "\n",
    "import matplotlib.pyplot as plt\n",
    "import seaborn as sns\n",
    "%matplotlib inline"
   ]
  },
  {
   "cell_type": "code",
   "execution_count": 5,
   "metadata": {},
   "outputs": [],
   "source": [
    "sns.set_style('whitegrid')"
   ]
  },
  {
   "cell_type": "code",
   "execution_count": 9,
   "metadata": {},
   "outputs": [
    {
     "data": {
      "text/plain": [
       "<matplotlib.axes._subplots.AxesSubplot at 0x251035d0288>"
      ]
     },
     "execution_count": 9,
     "metadata": {},
     "output_type": "execute_result"
    },
    {
     "data": {
      "image/png": "[encoded data removed]",
      "text/plain": [
       "<Figure size 360x360 with 1 Axes>"
      ]
     },
     "metadata": {},
     "output_type": "display_data"
    }
   ],
   "source": [
    "plt.figure(figsize=(5,5))\n",
    "sns.barplot(x=['tweet_count','retweet_count','total_tweet'],y=[tweet_count,retweet_count,total_tweet])"
   ]
  },
  {
   "cell_type": "code",
   "execution_count": 10,
   "metadata": {},
   "outputs": [
    {
     "name": "stdout",
     "output_type": "stream",
     "text": [
      "[12, 5, 1, 1, 1, 1, 29, 23, 4, 21, 1, 2, 1, 1, 1, 3, 2, 2, 2, 2, 1, 2, 1, 1, 1, 1, 2, 3, 1, 1, 1, 1, 1, 1, 1, 1, 6, 1, 1, 1, 1, 1, 1, 1, 1, 4, 1, 2, 1]\n"
     ]
    }
   ],
   "source": [
    "#the harvested data from twitter metions are in the form of dictionary\n",
    "mentions_count = user_mentions.values()\n",
    "\n",
    "#coverting the dictionary values to list\n",
    "mentions_count = list(mentions_count)\n",
    "print(mentions_count)"
   ]
  },
  {
   "cell_type": "code",
   "execution_count": 11,
   "metadata": {},
   "outputs": [
    {
     "name": "stdout",
     "output_type": "stream",
     "text": [
      "['Suriya_offl', 'Rajkuma56284099', 'bramma23', 'GhibranOfficial', 'NaanChristy', '2D_ENTPVTLTD', 'Subashrocky11', 'ImRaina', 'imVkohli', 'BCCI', 'RaviShastriOfc', 'NareshK77718435', 'imrainaa', 'bccia', 'CSKFansOfficial', 'YUVSTRONG12', 'Rockyrakesh647', 'brokedrake', 'AbhishekOpines', 'ICC', 'Raina_Barani', 'sayyeshaa', '6pm', 'sachin_rt', 'tamilthalaivas', 'Iam_karthiSJ', 'anirudhofficial', 'VigneshShivN', 'kegvraja', 'rajsekarpandian', 'Karthi00640937', 'actorvijay', 'arrahman', 'SonyMusicSouth', 'ThenandalFilms', 'Atlee_dir', 'Iam_nareshkm', 'TamilTechOffici', 'msdhoni', 'block_ram', 'hardikpandya7', 'TheRealPCB', 'actorsathish', 'mohan_manjima', 'Nirmal81795458', 'dhanushkraja', 'davidwarner31', 'MadonnaSebast14', 'behindwoods']\n"
     ]
    }
   ],
   "source": [
    "#the harvested data from twitter metions are in the form of dictionary\n",
    "mentions = user_mentions.keys()\n",
    "\n",
    "#coverting the dictionary keys to list\n",
    "mentions = list(mentions)\n",
    "print(mentions)"
   ]
  },
  {
   "cell_type": "code",
   "execution_count": 12,
   "metadata": {},
   "outputs": [
    {
     "data": {
      "text/plain": [
       "<matplotlib.axes._subplots.AxesSubplot at 0x25108bbf3c8>"
      ]
     },
     "execution_count": 12,
     "metadata": {},
     "output_type": "execute_result"
    },
    {
     "data": {
      "image/png": "[encoded data removed]",
      "text/plain": [
       "<Figure size 936x648 with 1 Axes>"
      ]
     },
     "metadata": {},
     "output_type": "display_data"
    }
   ],
   "source": [
    "#for demonstration purpose only  first 10 values of the mentions are used\n",
    "\n",
    "plt.figure(figsize=(13,9))\n",
    "sns.barplot(x=mentions[:10],y=mentions_count[0:10])"
   ]
  },
  {
   "cell_type": "code",
   "execution_count": 13,
   "metadata": {},
   "outputs": [],
   "source": [
    "#for hastags used it is same as user mentions"
   ]
  }
 ],
 "metadata": {
  "kernelspec": {
   "display_name": "Python 3",
   "language": "python",
   "name": "python3"
  },
  "language_info": {
   "codemirror_mode": {
    "name": "ipython",
    "version": 3
   },
   "file_extension": ".py",
   "mimetype": "text/x-python",
   "name": "python",
   "nbconvert_exporter": "python",
   "pygments_lexer": "ipython3",
   "version": "3.7.6"
  }
 },
 "nbformat": 4,
 "nbformat_minor": 4
}
